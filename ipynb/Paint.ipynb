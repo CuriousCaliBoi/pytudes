{
 "cells": [
  {
   "cell_type": "markdown",
   "id": "d3bc52a7-6c7d-49b5-b6d4-b43a74e0ef34",
   "metadata": {},
   "source": [
    "<div style=\"text-align: right\">Peter Norvig, April 2024</div> \n",
    "\n",
    "# Counting Cluster Sizes\n",
    "\n",
    "Zach Wissner-Gross's *Fiddler on the Proof!* column [poses a question](https://thefiddler.substack.com/p/can-you-paint-by-number) that I will restate as:\n",
    "\n",
    "Consider a two-dimensional grid of squares, where each square is colored either red or blue. A **cluster** is a group of contiguous squares of the same color (contiguity must be horizontal or vertical, not diagonal). For example, in the following 10 × 2 grid there are four red clusters and five blue clusters:\n",
    "\n",
    "![](https://substackcdn.com/image/fetch/w_1456,c_limit,f_webp,q_auto:good,fl_progressive:steep/https%3A%2F%2Fsubstack-post-media.s3.amazonaws.com%2Fpublic%2Fimages%2F079ab505-66c7-427b-ad6a-a2cf6a1794a6_1600x384.png)\n",
    "\n",
    "Altogether there are 20 squares and 9 clusters, so the average cluster size is about 2.22 squares. Under the assumption that every configuration of red and blue squares is equally likely, Zach poses two questions (and I'll add two more):\n",
    "\n",
    "- What is the average cluster size for a grid consisting of a single infinitely long row?\n",
    "- What is the average cluster size for a grid consisting of two infinitely long rows?\n",
    "- What is the average cluster size for a grid of any given size *w* × *h*?\n",
    "- What if there are three or more colors rather than just two?\n",
    "\n",
    "# Code to Make Grids and to Count Clusters\n",
    "\n",
    "My strategy will be to try consider every possible grid of a given size, compute the average cluster size for each grid, and then average across all of them. I'll define two data types and five functions:\n",
    "- `Square`: a pair of `(x, y)` coordinates, e.g. `(2, 1)`.\n",
    "- `Grid`: data type for a grid; a dict of `{square: contents}`, where  `contents` initially starts as a color (e.g. `'R'` or `'B'` for red or blue).\n",
    "- `grids(width, height)`: returns a list of all possible grids of the given size. Each grid has a different combination of colors. With *c* colors, there are *c*<sup>(*w* × *h*)</sup> possible grids of size  *w* × *h*.\n",
    "- `one_grid(width, height, colorseq)`: returns one grid of given size, filling in squares with entries from colorseq.\n",
    "- `mean_cluster_size(grid)`: returns the average size of the clusters in a grid.\n",
    "- `cluster(grid)`: Mutates the grid so that each square's contents is changed from a color (a string) to a cluster number, where 1 is the number of the first cluster, 2 of the next cluster, and so on. Uses a [flood fill](https://en.wikipedia.org/wiki/Flood_fill) algorithm.\n",
    "- `neighbors(square)`: the four squares surrounding the given square.\n"
   ]
  },
  {
   "cell_type": "code",
   "execution_count": 1,
   "id": "d3991ae8-4c2c-4e4f-8884-95fd74aec5be",
   "metadata": {},
   "outputs": [],
   "source": [
    "import itertools \n",
    "from statistics import mean, stdev\n",
    "from typing import *\n",
    "\n",
    "Square = Tuple[int, int]\n",
    "Grid = Dict[Square, Union[str, int]] # e.g. {(1, 1): 1, (2, 1): 'B'}\n",
    "\n",
    "def grids(width: int, height: int, colors='RB') -> List[Grid]:\n",
    "    \"\"\"All possible grids with given width, height, and color set.\"\"\"\n",
    "    return [one_grid(width, height, colorseq) \n",
    "            for colorseq in itertools.product(colors, repeat=(width * height))]\n",
    "\n",
    "def one_grid(width: int, height: int, colorseq: Sequence[str]) -> Grid: \n",
    "    \"\"\"A grid of given size made from the sequence of colors.\"\"\"\n",
    "    squares = [(x, y) for y in range(height) for x in range(width)]\n",
    "    return dict(zip(squares, colorseq))\n",
    "\n",
    "def mean_cluster_size(grid: Grid) -> float: \n",
    "    \"\"\"Mean size of clusters in a grid.\"\"\"\n",
    "    return len(grid) / max(cluster(grid).values())\n",
    "    \n",
    "def cluster(grid: Grid) -> Grid:\n",
    "    \"\"\"Do a flood fill, replacing one cluster of adjacent characters with an integer,\n",
    "    then incrementing the integer for the next cluster and continuing.\"\"\"\n",
    "    cluster_number = 0 \n",
    "    for square in grid:\n",
    "        c = grid[square]\n",
    "        if isinstance(c, str):\n",
    "            cluster_number += 1\n",
    "            # Assign cluster number to square and all its neighbors with the same contents\n",
    "            Q = [square] # queue of squares in cluster `i`\n",
    "            while Q: \n",
    "                sq = Q.pop()\n",
    "                if grid.get(sq) == c: \n",
    "                    grid[sq] = cluster_number\n",
    "                    Q.extend(neighbors(sq))\n",
    "    return grid\n",
    "\n",
    "def neighbors(square: Square) -> List[Square]:\n",
    "    \"\"\"The four neighbors of a square.\"\"\"\n",
    "    (x, y) = square\n",
    "    return [(x + 1, y), (x - 1, y), (x, y + 1), (x, y - 1)]"
   ]
  },
  {
   "cell_type": "markdown",
   "id": "1bcebc7b-d59e-4bea-b735-c372fd91cfb1",
   "metadata": {},
   "source": [
    "# Answering the Questions\n",
    "\n",
    "Here's one more function to help solve the questions:"
   ]
  },
  {
   "cell_type": "code",
   "execution_count": 2,
   "id": "816f854a-7c99-4022-b539-98f87bc20369",
   "metadata": {},
   "outputs": [],
   "source": [
    "def do(n, h=1, colors='RB') -> dict: \n",
    "    \"\"\"A dict of {(w, h): mean-cluster-size} for grids with width w from 1 to n, and with height h.\"\"\"\n",
    "    for w in range(1, n + 1):\n",
    "        μ = mean(map(mean_cluster_size, grids(w, h, colors)))\n",
    "        print(f'{w:2} × {h} grids: {μ:6.4f} mean cluster size')"
   ]
  },
  {
   "cell_type": "markdown",
   "id": "0c5a9d5a-58b2-4cf9-b2ff-33078461bb97",
   "metadata": {},
   "source": [
    "# One-Row Grids\n",
    "\n",
    "I can't make an infinitely long row (a grid with *n* squares has 2<sup>*n*</sup> possible color arrangments, it will be slow to investigate grids with more than about 20 squares (a million arrangements)). However, I can look at successively wider rows and see if the average cluster size seems to be converging:"
   ]
  },
  {
   "cell_type": "code",
   "execution_count": 3,
   "id": "e004289f-0c81-46ab-8900-9312a0aa6f7c",
   "metadata": {},
   "outputs": [
    {
     "name": "stdout",
     "output_type": "stream",
     "text": [
      " 1 × 1 grids: 1.0000 mean cluster size\n",
      " 2 × 1 grids: 1.5000 mean cluster size\n",
      " 3 × 1 grids: 1.7500 mean cluster size\n",
      " 4 × 1 grids: 1.8750 mean cluster size\n",
      " 5 × 1 grids: 1.9375 mean cluster size\n",
      " 6 × 1 grids: 1.9688 mean cluster size\n",
      " 7 × 1 grids: 1.9844 mean cluster size\n",
      " 8 × 1 grids: 1.9922 mean cluster size\n",
      " 9 × 1 grids: 1.9961 mean cluster size\n",
      "10 × 1 grids: 1.9980 mean cluster size\n",
      "11 × 1 grids: 1.9990 mean cluster size\n",
      "12 × 1 grids: 1.9995 mean cluster size\n",
      "13 × 1 grids: 1.9998 mean cluster size\n",
      "14 × 1 grids: 1.9999 mean cluster size\n"
     ]
    }
   ],
   "source": [
    "do(14)"
   ]
  },
  {
   "cell_type": "markdown",
   "id": "13dd529d-519e-487e-9430-e782c8b23e0f",
   "metadata": {},
   "source": [
    "For rows that are at least 11 squares wide we're getting very close (within 0.001) to an average cluster size of 2.\n",
    "\n",
    "Now that I see the result, I can come up with a justification: Every cluster starts with one square. The next square in the row will be the same color half the time. Continuing, we would get three of the same color in a row a quarter of the time, four in a row an eigth of the time, and so on. So we get:\n",
    "\n",
    "mean cluster size &nbsp;  =  &nbsp; Σ<sub>i∈{0,1,...∞}</sub> (1/2)<sup>n</sup> &nbsp;  =  &nbsp; 2\n",
    "\n",
    "# Two-Row Grids\n",
    "\n",
    "Now consider grids that are two rows tall:"
   ]
  },
  {
   "cell_type": "code",
   "execution_count": 4,
   "id": "e2f0c3ca-acac-4dd8-9970-c846e3389ad5",
   "metadata": {},
   "outputs": [
    {
     "name": "stdout",
     "output_type": "stream",
     "text": [
      " 1 × 2 grids: 1.5000 mean cluster size\n",
      " 2 × 2 grids: 2.1250 mean cluster size\n",
      " 3 × 2 grids: 2.4688 mean cluster size\n",
      " 4 × 2 grids: 2.6682 mean cluster size\n",
      " 5 × 2 grids: 2.7920 mean cluster size\n",
      " 6 × 2 grids: 2.8737 mean cluster size\n",
      " 7 × 2 grids: 2.9305 mean cluster size\n",
      " 8 × 2 grids: 2.9717 mean cluster size\n",
      " 9 × 2 grids: 3.0027 mean cluster size\n"
     ]
    }
   ],
   "source": [
    "do(9, 2)"
   ]
  },
  {
   "cell_type": "markdown",
   "id": "8e1ac7a1-f947-4b76-8c5d-d1b26974d018",
   "metadata": {},
   "source": [
    "It looks like the answer is converging on 3, but it is not as clear as with the first question.\n",
    "\n",
    "Here's a justification: consider a cluster that extends a certain length all along the top row, with possibly some additional squares below it in the bootom row. You can call this a π-shape, because there is a horizontal bar at the top, and ero or more vertical bars extending down. By the argument above, the average length of the bar is 2. Now for each column in the bar there is a 50% chance that the square below will be the same color and thus join the cluster. So the average cluster size in total is 2 + 2 × 1/2 = 3. By a similar argument, clusters that extend along the bottom row with possibly some squares above also have an average size of 3. But what about an Z-shape or S-shape cluster, which starts along the top (or bottom) row, then switches to the bottom (or top)? The trick is that you can take any Z- or S-shape and turn it into a π-shape by just swapping top and bottom squares when the cluster is on the bottom. This swap doesn't change any probabilities, so a Z-, S-, and π-shaped clusters all have a mean cluster size of 3.\n",
    "\n",
    "# Arbitrary *w* × *h* Grids\n",
    "\n",
    "Let's consider grids of size *n* × 3 and *n* × 4:"
   ]
  },
  {
   "cell_type": "code",
   "execution_count": 5,
   "id": "b29ddec0-5fd2-4f8e-96af-f4b380c6eb59",
   "metadata": {},
   "outputs": [
    {
     "name": "stdout",
     "output_type": "stream",
     "text": [
      " 1 × 3 grids: 1.7500 mean cluster size\n",
      " 2 × 3 grids: 2.4688 mean cluster size\n",
      " 3 × 3 grids: 2.8986 mean cluster size\n",
      " 4 × 3 grids: 3.1591 mean cluster size\n",
      " 5 × 3 grids: 3.3266 mean cluster size\n",
      " 6 × 3 grids: 3.4408 mean cluster size\n"
     ]
    }
   ],
   "source": [
    "do(6, 3)"
   ]
  },
  {
   "cell_type": "code",
   "execution_count": 6,
   "id": "cb493f9f-734e-4767-b245-24cdf906a06a",
   "metadata": {},
   "outputs": [
    {
     "name": "stdout",
     "output_type": "stream",
     "text": [
      " 1 × 4 grids: 1.8750 mean cluster size\n",
      " 2 × 4 grids: 2.6682 mean cluster size\n",
      " 3 × 4 grids: 3.1591 mean cluster size\n",
      " 4 × 4 grids: 3.4616 mean cluster size\n",
      " 5 × 4 grids: 3.6608 mean cluster size\n"
     ]
    }
   ],
   "source": [
    "do(5, 4)"
   ]
  },
  {
   "cell_type": "markdown",
   "id": "26567fd7-dbf5-44b1-98a6-de8d4f95a20f",
   "metadata": {},
   "source": [
    "# Adding Colors\n",
    "\n",
    "What if we add a third color? That should make the average cluster size smaller (since there is a 2/3 rather than 1/2 chance that the next square will be a different color and start a new cluster). I'll start with a single row:"
   ]
  },
  {
   "cell_type": "code",
   "execution_count": 7,
   "id": "dc4dc1f5-f5f4-4d69-8bdf-c00d21d978cd",
   "metadata": {},
   "outputs": [
    {
     "name": "stdout",
     "output_type": "stream",
     "text": [
      " 1 × 1 grids: 1.0000 mean cluster size\n",
      " 2 × 1 grids: 1.3333 mean cluster size\n",
      " 3 × 1 grids: 1.4444 mean cluster size\n",
      " 4 × 1 grids: 1.4815 mean cluster size\n",
      " 5 × 1 grids: 1.4938 mean cluster size\n",
      " 6 × 1 grids: 1.4979 mean cluster size\n",
      " 7 × 1 grids: 1.4993 mean cluster size\n",
      " 8 × 1 grids: 1.4998 mean cluster size\n",
      " 9 × 1 grids: 1.4999 mean cluster size\n",
      "10 × 1 grids: 1.5000 mean cluster size\n"
     ]
    }
   ],
   "source": [
    "do(10, 1, 'RGB')"
   ]
  },
  {
   "cell_type": "markdown",
   "id": "7afd16c2-99bd-410b-b5a8-d20862b7b1f5",
   "metadata": {},
   "source": [
    "This is straightforward: the mean cluster size converges to 3/2. We can update the equation to deal with a single row with *c* equiprobable colors:\n",
    "\n",
    "mean cluster size &nbsp; = &nbsp; Σ<sub>i∈{0,1,...∞}</sub> (1/*c*)<sup>n</sup> &nbsp; = &nbsp; *c* / (*c* - 1)\n",
    "\n",
    "Now for a two-row grid with three colors:"
   ]
  },
  {
   "cell_type": "code",
   "execution_count": 8,
   "id": "37f4a825-d75c-4275-b2c4-6dd3de080b3f",
   "metadata": {},
   "outputs": [
    {
     "name": "stdout",
     "output_type": "stream",
     "text": [
      " 1 × 2 grids: 1.3333 mean cluster size\n",
      " 2 × 2 grids: 1.6543 mean cluster size\n",
      " 3 × 2 grids: 1.7737 mean cluster size\n",
      " 4 × 2 grids: 1.8261 mean cluster size\n",
      " 5 × 2 grids: 1.8535 mean cluster size\n",
      " 6 × 2 grids: 1.8698 mean cluster size\n"
     ]
    }
   ],
   "source": [
    "do(6, 2, 'RGB')"
   ]
  },
  {
   "cell_type": "markdown",
   "id": "3c18f723-447f-4cd6-ba27-59db37e87659",
   "metadata": {},
   "source": [
    "By the same reasoning as we had last time, this should converge to 3/2 + 3/2  × 1/3 = 2. (But it would take a lot of computation time to consider the larger grids that would be needed to get closer to 2.)"
   ]
  },
  {
   "cell_type": "markdown",
   "id": "6a36b07b-8e5c-4048-8046-7619b34f6b26",
   "metadata": {},
   "source": [
    "# Random Sampling for Larger Grids\n",
    "\n",
    "I can't analyze an infinite two-dimensional grid.\n",
    "\n",
    "And I can't even enumerate all the, say, 100 × 100 grids, because there are 2<sup>10,000</sup> of them.\n",
    "\n",
    "But I can **randomly sample** a bunch of 100 × 100 grids, and that should give me a good estimate of the full distribution of grids.\n",
    "\n",
    "First, a function to make a random grid of a given size:"
   ]
  },
  {
   "cell_type": "code",
   "execution_count": 9,
   "id": "51cc5dca-f3b4-4a2b-96af-479683216d4b",
   "metadata": {},
   "outputs": [],
   "source": [
    "import random\n",
    "\n",
    "def random_grid(width: int, height: int, colors='RB') -> Grid:\n",
    "    \"\"\"A width × height grid filled with random colors.\"\"\"\n",
    "    return one_grid(width, height, [random.choice(colors) for _ in range(width * height)])"
   ]
  },
  {
   "cell_type": "markdown",
   "id": "50ac4938-fd46-4e27-89d0-82bca289f37d",
   "metadata": {},
   "source": [
    "Here's the mean cluster size of one random grid:"
   ]
  },
  {
   "cell_type": "code",
   "execution_count": 10,
   "id": "6abd1ae5-852f-459c-ad6e-1e91d91566b0",
   "metadata": {},
   "outputs": [
    {
     "data": {
      "text/plain": [
       "7.037297677691766"
      ]
     },
     "execution_count": 10,
     "metadata": {},
     "output_type": "execute_result"
    }
   ],
   "source": [
    "mean_cluster_size(random_grid(100, 100))"
   ]
  },
  {
   "cell_type": "markdown",
   "id": "197a9c3e-58e4-4a4d-a37f-c793c98f36e8",
   "metadata": {},
   "source": [
    "But that's just one grid. Better to sample *N* different grids (say, *N* = 200) and report on the mean cluster sizes for them:"
   ]
  },
  {
   "cell_type": "code",
   "execution_count": 11,
   "id": "39fd3321-907d-45eb-b06b-70d590427a09",
   "metadata": {},
   "outputs": [],
   "source": [
    "import matplotlib.pyplot as plt\n",
    "\n",
    "def report(numbers, bins=30) -> dict:\n",
    "    \"\"\"Plot a histogram and return statistics on these numbers.\"\"\"\n",
    "    plt.hist(numbers, bins=bins,  rwidth=0.8, align='left')\n",
    "    return dict(mean=mean(numbers), max=max(numbers), min=min(numbers), \n",
    "                stdev=stdev(numbers), N=len(numbers))"
   ]
  },
  {
   "cell_type": "code",
   "execution_count": 12,
   "id": "083dc3ea-a395-4eae-b751-347e4384a373",
   "metadata": {},
   "outputs": [
    {
     "data": {
      "text/plain": [
       "{'mean': 7.239472697041692,\n",
       " 'max': 7.9239302694136295,\n",
       " 'min': 6.6711140760507,\n",
       " 'stdev': 0.19030622926154506,\n",
       " 'N': 200}"
      ]
     },
     "execution_count": 12,
     "metadata": {},
     "output_type": "execute_result"
    },
    {
     "data": {
      "image/png": "[encoded data removed]",
      "text/plain": [
       "<Figure size 640x480 with 1 Axes>"
      ]
     },
     "metadata": {},
     "output_type": "display_data"
    }
   ],
   "source": [
    "N = 200\n",
    "sizes = [mean_cluster_size(random_grid(100, 100)) for _ in range(N)]\n",
    "report(sizes)"
   ]
  },
  {
   "cell_type": "markdown",
   "id": "9f7b9a04-31ff-44ed-bbf4-19b56c910859",
   "metadata": {},
   "source": [
    "A 100 x 100 grid isn't infinite, so let's look at larger grids:"
   ]
  },
  {
   "cell_type": "code",
   "execution_count": 13,
   "id": "9e1f69b9-870f-4439-ad62-92d91684392d",
   "metadata": {},
   "outputs": [
    {
     "data": {
      "text/plain": [
       "{'mean': 7.4134560772843425,\n",
       " 'max': 7.651109410864575,\n",
       " 'min': 7.116171499733143,\n",
       " 'stdev': 0.10453350361308941,\n",
       " 'N': 200}"
      ]
     },
     "execution_count": 13,
     "metadata": {},
     "output_type": "execute_result"
    },
    {
     "data": {
      "image/png": "[encoded data removed]",
      "text/plain": [
       "<Figure size 640x480 with 1 Axes>"
      ]
     },
     "metadata": {},
     "output_type": "display_data"
    }
   ],
   "source": [
    "report([mean_cluster_size(random_grid(200, 200)) for _ in range(N)])"
   ]
  },
  {
   "cell_type": "code",
   "execution_count": 14,
   "id": "b580bc66-9bc2-406c-8ce4-806b9c020dc7",
   "metadata": {},
   "outputs": [
    {
     "data": {
      "text/plain": [
       "{'mean': 7.47612464655258,\n",
       " 'max': 7.681147051292993,\n",
       " 'min': 7.279786459597185,\n",
       " 'stdev': 0.07889928048753433,\n",
       " 'N': 200}"
      ]
     },
     "execution_count": 14,
     "metadata": {},
     "output_type": "execute_result"
    },
    {
     "data": {
      "image/png": "[encoded data removed]",
      "text/plain": [
       "<Figure size 640x480 with 1 Axes>"
      ]
     },
     "metadata": {},
     "output_type": "display_data"
    }
   ],
   "source": [
    "report([mean_cluster_size(random_grid(300, 300)) for _ in range(N)])"
   ]
  },
  {
   "cell_type": "markdown",
   "id": "6d20f32a-8c7a-4456-aa41-d2989e33fd57",
   "metadata": {},
   "source": [
    "I think that what's happening is that the clusters that are near the edge of the grid get arbitrarily cut off, and since the edge is a smaller percentage of the larger grid, the larger grid has a larger mean cluster size, one that is a better representative of what would happen on an infinite grid. But I can't say exactly what the mean converges to."
   ]
  },
  {
   "cell_type": "markdown",
   "id": "f3f21c52-8baf-4e71-a33c-e6f4cefd0877",
   "metadata": {},
   "source": [
    "# My First Random Cluster\n",
    "\n",
    "The great thing about an *n* × 1 grid is that the clusters can't interfere with each other. Going left-to-right, once one cluster ends, the next one starts, and there's no looping back. But in an arbitrary 2D array there is looping back. So I want to get a feel for what the \"first\" cluster on an infinite grid looks like: start by placing a color at the origin square, then recursively place random colors in neighboring squares, extending the cluster, but stop when the cluster is completely surrounded by squares of the other color. "
   ]
  },
  {
   "cell_type": "code",
   "execution_count": 15,
   "id": "ee2a29b8-7ec6-4558-b86a-5933ddc716f0",
   "metadata": {},
   "outputs": [],
   "source": [
    "def random_cluster(colors='@.', start=(0, 0)) -> Grid:\n",
    "    \"\"\"Create just enough of a grid to create a single random cluster.\"\"\"\n",
    "    cluster = {}\n",
    "    Q = [start] # A queue of the frontier squares of the cluster\n",
    "    while Q:\n",
    "        sq = Q.pop()\n",
    "        if sq not in cluster:\n",
    "            cluster[sq] = random.choice(colors)\n",
    "            if cluster[sq] == cluster[start]:\n",
    "                Q.extend(neighbors(sq))\n",
    "    return cluster"
   ]
  },
  {
   "cell_type": "markdown",
   "id": "58e3e7bc-2576-4332-921c-04e02da6490b",
   "metadata": {},
   "source": [
    "I'll define `show` to print a picture of the cluster:"
   ]
  },
  {
   "cell_type": "code",
   "execution_count": 16,
   "id": "ee6683dd-7b4c-4e4c-b28e-1e8075cc07aa",
   "metadata": {},
   "outputs": [],
   "source": [
    "def show(cluster: Grid) -> int:\n",
    "    \"\"\"Print a representation of the grid and return the size of the one cluster.\"\"\"\n",
    "    xs = sorted({x for (x, y) in cluster})\n",
    "    ys = sorted({y for (x, y) in cluster})\n",
    "    for y in ys:\n",
    "        print(*[cluster.get((x, y), ' ') for x in xs])\n",
    "    return cluster_size(cluster)\n",
    "\n",
    "def cluster_size(cluster) -> int: \n",
    "    color = cluster[0, 0]\n",
    "    return Counter(cluster.values())[color]"
   ]
  },
  {
   "cell_type": "code",
   "execution_count": 17,
   "id": "1827747e-76ac-496e-ad3b-b7cbf8b5201a",
   "metadata": {},
   "outputs": [
    {
     "name": "stdout",
     "output_type": "stream",
     "text": [
      "  . .  \n",
      ". @ @ .\n",
      ". @ .  \n",
      "  .    \n"
     ]
    },
    {
     "data": {
      "text/plain": [
       "3"
      ]
     },
     "execution_count": 17,
     "metadata": {},
     "output_type": "execute_result"
    }
   ],
   "source": [
    "random.seed(37)\n",
    "show(random_cluster())"
   ]
  },
  {
   "cell_type": "code",
   "execution_count": 18,
   "id": "fd429e22-b8bd-475e-9bb0-cbdac2d57c0e",
   "metadata": {},
   "outputs": [
    {
     "name": "stdout",
     "output_type": "stream",
     "text": [
      "                                                    .    \n",
      "                                                  . @ .  \n",
      "                                                . @ @ .  \n",
      "                                            .   . @ .    \n",
      "                                          . @ . . @ .    \n",
      "                                          . @ @ @ @ @ .  \n",
      "                                      .   . @ @ . @ . @ .\n",
      "                                  . . @ . @ @ @ @ @ @ @ .\n",
      "                                . @ . @ @ @ @ @ @ . . .  \n",
      "                                . @ @ @ @ . . @ .        \n",
      "                              .   . @ . @ . @ .          \n",
      "                        .   . @ . . . @ @ @ @ .          \n",
      "                    . . @ . . @ @ @ @ @ . . .            \n",
      "                  . @ @ @ @ . . @ @ . @ @ @ .            \n",
      "                  . @ @ @ . .   . @ @ . @ @ . .          \n",
      "              . . @ @ @ @ @ @ . @ . @ . @ @ @ @ .        \n",
      "            . @ @ @ . . @ . @ @ @ @ . @ @ . . .          \n",
      "              . @ . @ . . . @ . @ @ @ @ @ .              \n",
      "                . . @ . . @ @ @ . . . . .                \n",
      "                . @ @ . @ @ . @ .                        \n",
      "                  . @ . @ @ @ . .                        \n",
      "                  . @ @ @ @ @ @ @ .                      \n",
      "                    . @ @ @ . @ @ @ .                    \n",
      "          . . .     . . @ @ @ . @ @ .                    \n",
      "        . @ @ @ . . @ @ @ @ @ @ . @ .                    \n",
      "        . @ @ @ . @ @ . . @ @ .   .                      \n",
      "          . @ @ @ @ @ @ . @ .                            \n",
      "        . @ @ . . . . @ @ @ .                            \n",
      "  . .   . @ .         . @ .                              \n",
      ". @ @ . @ @ .           .                                \n",
      "  . @ @ @ .                                              \n",
      "  . @ @ @ .                                              \n",
      "    . . .                                                \n"
     ]
    },
    {
     "data": {
      "text/plain": [
       "167"
      ]
     },
     "execution_count": 18,
     "metadata": {},
     "output_type": "execute_result"
    }
   ],
   "source": [
    "show(random_cluster())"
   ]
  },
  {
   "cell_type": "code",
   "execution_count": 19,
   "id": "13ba443e-c5b9-4897-9075-0833f92081ae",
   "metadata": {},
   "outputs": [
    {
     "name": "stdout",
     "output_type": "stream",
     "text": [
      "  . .      \n",
      ". @ @ . .  \n",
      "  . @ @ @ .\n",
      "    . . @ .\n",
      "      . @ .\n",
      "        .  \n"
     ]
    },
    {
     "data": {
      "text/plain": [
       "7"
      ]
     },
     "execution_count": 19,
     "metadata": {},
     "output_type": "execute_result"
    }
   ],
   "source": [
    "show(random_cluster())"
   ]
  },
  {
   "cell_type": "markdown",
   "id": "faf079b0-8534-4d92-aa8e-acd035dc5420",
   "metadata": {},
   "source": [
    "We can see that there is a lot of variation in size and shape of the first clusters. We can also see that the shape will constrain other clusters: there are some small clusters of the second color that are trapped inside the cluster of the first color.  Below I sample 10,000 first clusters and report on their sizes:"
   ]
  },
  {
   "cell_type": "code",
   "execution_count": 20,
   "id": "ab6ba895-aa51-41af-baf1-f09ee47e973f",
   "metadata": {},
   "outputs": [],
   "source": [
    "sizes = [cluster_size(random_cluster()) for _ in range(10_000)]"
   ]
  },
  {
   "cell_type": "code",
   "execution_count": 21,
   "id": "df7f6ae0-32aa-4002-8056-9de0dc2da07a",
   "metadata": {},
   "outputs": [
    {
     "data": {
      "text/plain": [
       "{'mean': 59.6728, 'max': 917, 'min': 1, 'stdev': 75.3054688022268, 'N': 10000}"
      ]
     },
     "execution_count": 21,
     "metadata": {},
     "output_type": "execute_result"
    },
    {
     "data": {
      "image/png": "[encoded data removed]",
      "text/plain": [
       "<Figure size 640x480 with 1 Axes>"
      ]
     },
     "metadata": {},
     "output_type": "display_data"
    }
   ],
   "source": [
    "report(sizes)"
   ]
  },
  {
   "cell_type": "markdown",
   "id": "7d2c2f1a-5b51-4d02-a35c-05d6f90e5a09",
   "metadata": {},
   "source": [
    "There's quite a spread, with the standard deviation being larger than the mean, and the maximum being about 10 times the mean.  It might help to zoom in on the smaller sizes:"
   ]
  },
  {
   "cell_type": "code",
   "execution_count": 22,
   "id": "3dcbff13-ddb1-4ba0-9650-3b6b6122f76a",
   "metadata": {},
   "outputs": [
    {
     "data": {
      "text/plain": [
       "{'mean': 7.851026539809714,\n",
       " 'max': 20,\n",
       " 'min': 1,\n",
       " 'stdev': 5.816812011424741,\n",
       " 'N': 3994}"
      ]
     },
     "execution_count": 22,
     "metadata": {},
     "output_type": "execute_result"
    },
    {
     "data": {
      "image/png": "[encoded data removed]",
      "text/plain": [
       "<Figure size 640x480 with 1 Axes>"
      ]
     },
     "metadata": {},
     "output_type": "display_data"
    }
   ],
   "source": [
    "smaller = [s for s in sizes if s <= 20]\n",
    "report(smaller, bins=range(22))"
   ]
  },
  {
   "cell_type": "markdown",
   "id": "e93bc126-d2c9-415d-97cf-ee07bd36502d",
   "metadata": {},
   "source": [
    "We see that there are over 600 clusters of size 1. That makes sense; we start with one square, and about once every 2<sup>4</sup> times all 4 neighbors will be the other color, and 10000 / 16 = 625."
   ]
  },
  {
   "cell_type": "markdown",
   "id": "0758d4b5-76fa-47e6-85c1-478a772e400e",
   "metadata": {},
   "source": [
    "# Tests\n",
    "\n",
    "Some unit tests to give confidence in the code, and show examples of use:"
   ]
  },
  {
   "cell_type": "code",
   "execution_count": 23,
   "id": "da7a19ef-d47f-4c69-8fe5-cfaf79861dab",
   "metadata": {},
   "outputs": [],
   "source": [
    "assert grids(1, 3) == [\n",
    "    {(0, 0): 'R', (0, 1): 'R', (0, 2): 'R'},\n",
    "    {(0, 0): 'R', (0, 1): 'R', (0, 2): 'B'},\n",
    "    {(0, 0): 'R', (0, 1): 'B', (0, 2): 'R'},\n",
    "    {(0, 0): 'R', (0, 1): 'B', (0, 2): 'B'},\n",
    "    {(0, 0): 'B', (0, 1): 'R', (0, 2): 'R'},\n",
    "    {(0, 0): 'B', (0, 1): 'R', (0, 2): 'B'},\n",
    "    {(0, 0): 'B', (0, 1): 'B', (0, 2): 'R'},\n",
    "    {(0, 0): 'B', (0, 1): 'B', (0, 2): 'B'}]\n",
    "\n",
    "assert grids(1, 2, 'RGB') == [\n",
    "    {(0, 0): 'R', (0, 1): 'R'},\n",
    "    {(0, 0): 'R', (0, 1): 'G'},\n",
    "    {(0, 0): 'R', (0, 1): 'B'},\n",
    "    {(0, 0): 'G', (0, 1): 'R'},\n",
    "    {(0, 0): 'G', (0, 1): 'G'},\n",
    "    {(0, 0): 'G', (0, 1): 'B'},\n",
    "    {(0, 0): 'B', (0, 1): 'R'},\n",
    "    {(0, 0): 'B', (0, 1): 'G'},\n",
    "    {(0, 0): 'B', (0, 1): 'B'}]\n",
    "\n",
    "grid6x1 = one_grid(6, 1, 'RRBBBR')\n",
    "assert grid6x1 == {(0, 0): 'R', (1, 0): 'R', (2, 0): 'B', (3, 0): 'B', (4, 0): 'B', (5, 0): 'R'}\n",
    "assert cluster(grid6x1) == {(0, 0): 1, (1, 0): 1, (2, 0): 2, (3, 0): 2, (4, 0): 2, (5, 0): 3}\n",
    "assert mean_cluster_size(grid6x1) == 2\n",
    "\n",
    "grid5x3 = one_grid(5, 3, 'RR:RR'\n",
    "                         '.R:R.'\n",
    "                         '.RRR.')\n",
    "assert cluster(grid5x3) == {\n",
    "    (0, 0): 1, (1, 0): 1, (2, 0): 2, (3, 0): 1, (4, 0): 1,\n",
    "    (0, 1): 3, (1, 1): 1, (2, 1): 2, (3, 1): 1, (4, 1): 4,\n",
    "    (0, 2): 3, (1, 2): 1, (2, 2): 1, (3, 2): 1, (4, 2): 4}\n",
    "assert mean_cluster_size(grid5x3) == 3.75\n",
    "\n",
    "grid10x2 = one_grid(10, 2, 'RBRBRRRBBR' # Example from diagram at top of notebook\n",
    "                           'RRRRBBRBRB') \n",
    "assert mean_cluster_size(grid10x2) == 20/9\n",
    "\n",
    "assert len(random_grid(3, 4)) == 12"
   ]
  }
 ],
 "metadata": {
  "kernelspec": {
   "display_name": "Python 3 (ipykernel)",
   "language": "python",
   "name": "python3"
  },
  "language_info": {
   "codemirror_mode": {
    "name": "ipython",
    "version": 3
   },
   "file_extension": ".py",
   "mimetype": "text/x-python",
   "name": "python",
   "nbconvert_exporter": "python",
   "pygments_lexer": "ipython3",
   "version": "3.8.15"
  }
 },
 "nbformat": 4,
 "nbformat_minor": 5
}
