{
 "cells": [
  {
   "attachments": {},
   "cell_type": "markdown",
   "id": "3c99bb5b-3e7b-486e-b888-440b5862b48c",
   "metadata": {},
   "source": [
    "# The Number Bracelets Game\n",
    "\n",
    "See Susan Addington's [description of the numbers bracelet game](http://www.geom.uiuc.edu/~addingto/number_bracelets/number_bracelets.html). It says in part:\n",
    "\n",
    "Imagine that you have lots of beads, numbered from 0 through 9, as many as you want of each kind. Here are the rules for making a number bracelet:\n",
    "\n",
    "- Pick a first and a second bead. They can have the same number.\n",
    "- To get the third bead, add the numbers on the first and second beads. If the sum is more than 9, just use the last (ones) digit of the sum.\n",
    "- To get the next bead, add the numbers on the last two beads you used, and use only the ones digit. So to get the fourth bead, add the numbers on the second and third beads, and use the ones digit.\n",
    "- Keep going until you get back to the first and second beads, in that order.\n",
    "- How long (or short) a bracelet can you make?"
   ]
  },
  {
   "cell_type": "markdown",
   "id": "3a10c327-1c04-400f-a2a8-d51cedfb89a9",
   "metadata": {},
   "source": [
    "# Making Bracelets\n",
    "\n",
    "The function `bracelet` will make a number bracelet, if you give is a pair of starting beads:"
   ]
  },
  {
   "cell_type": "code",
   "execution_count": 1,
   "id": "2d5f4a73-f4eb-4afa-8592-2274c9d8aac8",
   "metadata": {},
   "outputs": [],
   "source": [
    "def bracelet(beads):\n",
    "    \"\"\"Given a list of two beads, extend it to be a bracelet, following the rules of the game.\"\"\"\n",
    "    while len(beads) < 4 or beads[:2] != beads[-2:]:\n",
    "        next_bead = (beads[-1] + beads[-2]) % 10\n",
    "        beads = (*beads,  next_bead)\n",
    "    return beads[:-2]"
   ]
  },
  {
   "cell_type": "markdown",
   "id": "a1060352-f4c1-4d6e-b852-8273d2938847",
   "metadata": {},
   "source": [
    "For example:"
   ]
  },
  {
   "cell_type": "code",
   "execution_count": 2,
   "id": "85ac6e69-7dc6-4fb2-9359-f38f606d1917",
   "metadata": {},
   "outputs": [
    {
     "data": {
      "text/plain": [
       "(2, 6, 8, 4)"
      ]
     },
     "execution_count": 2,
     "metadata": {},
     "output_type": "execute_result"
    }
   ],
   "source": [
    "bracelet((2, 6))"
   ]
  },
  {
   "cell_type": "code",
   "execution_count": 3,
   "id": "e4bb755e-d538-4443-8387-5784bb4e4211",
   "metadata": {},
   "outputs": [
    {
     "data": {
      "text/plain": [
       "(1, 3, 4, 7, 1, 8, 9, 7, 6, 3, 9, 2)"
      ]
     },
     "execution_count": 3,
     "metadata": {},
     "output_type": "execute_result"
    }
   ],
   "source": [
    "bracelet((1, 3))"
   ]
  },
  {
   "cell_type": "markdown",
   "id": "72b69698-6e08-4dd9-a725-533a658a175a",
   "metadata": {},
   "source": [
    "I'm a bit uncertain about how small a bracelet can be. If the two starting beads are both 0, then all the following numbers will also be 0. Should that result in a bracelet with zero beads (because you drop the last two) or one bead (because you always add at least one before dropping) or two beads (because you add two 0 beads before dropoing)? I decided that the answer should be two, but if you disagree, I'm not going to argue with you."
   ]
  },
  {
   "cell_type": "code",
   "execution_count": 4,
   "id": "f217fc7d-a763-4929-a7dc-3fe7923ee975",
   "metadata": {},
   "outputs": [
    {
     "data": {
      "text/plain": [
       "(0, 0)"
      ]
     },
     "execution_count": 4,
     "metadata": {},
     "output_type": "execute_result"
    }
   ],
   "source": [
    "bracelet((0, 0))"
   ]
  },
  {
   "cell_type": "markdown",
   "id": "85c13666-e925-49fd-b8ca-c3ea7dc100cd",
   "metadata": {},
   "source": [
    "# All Possible Bracelets\n",
    "\n",
    "For every possible combination of the first two digits, I'll print out the length of the bracelet that can be made from those digits"
   ]
  },
  {
   "cell_type": "code",
   "execution_count": 5,
   "id": "881e1520-7120-46ae-95a5-2341444d6cc2",
   "metadata": {},
   "outputs": [
    {
     "name": "stdout",
     "output_type": "stream",
     "text": [
      " 2 beads: 0 0\n",
      "60 beads: 0 1 1 2 3 5 8 3 1 4 5 9 4 3 7 0 7 7 4 1 5 6 1 7 8 5 3 8 1 9 0 9 9 8 7 5 2 7 9 6 5 1 6 7 3 0 3 3 6 9 5 4 9 3 2 5 7 2 9 1\n",
      "20 beads: 0 2 2 4 6 0 6 6 2 8 0 8 8 6 4 0 4 4 8 2\n",
      "60 beads: 0 3 3 6 9 5 4 9 3 2 5 7 2 9 1 0 1 1 2 3 5 8 3 1 4 5 9 4 3 7 0 7 7 4 1 5 6 1 7 8 5 3 8 1 9 0 9 9 8 7 5 2 7 9 6 5 1 6 7 3\n",
      "20 beads: 0 4 4 8 2 0 2 2 4 6 0 6 6 2 8 0 8 8 6 4\n",
      " 3 beads: 0 5 5\n",
      "20 beads: 0 6 6 2 8 0 8 8 6 4 0 4 4 8 2 0 2 2 4 6\n",
      "60 beads: 0 7 7 4 1 5 6 1 7 8 5 3 8 1 9 0 9 9 8 7 5 2 7 9 6 5 1 6 7 3 0 3 3 6 9 5 4 9 3 2 5 7 2 9 1 0 1 1 2 3 5 8 3 1 4 5 9 4 3 7\n",
      "20 beads: 0 8 8 6 4 0 4 4 8 2 0 2 2 4 6 0 6 6 2 8\n",
      "60 beads: 0 9 9 8 7 5 2 7 9 6 5 1 6 7 3 0 3 3 6 9 5 4 9 3 2 5 7 2 9 1 0 1 1 2 3 5 8 3 1 4 5 9 4 3 7 0 7 7 4 1 5 6 1 7 8 5 3 8 1 9\n",
      "60 beads: 1 0 1 1 2 3 5 8 3 1 4 5 9 4 3 7 0 7 7 4 1 5 6 1 7 8 5 3 8 1 9 0 9 9 8 7 5 2 7 9 6 5 1 6 7 3 0 3 3 6 9 5 4 9 3 2 5 7 2 9\n",
      "60 beads: 1 1 2 3 5 8 3 1 4 5 9 4 3 7 0 7 7 4 1 5 6 1 7 8 5 3 8 1 9 0 9 9 8 7 5 2 7 9 6 5 1 6 7 3 0 3 3 6 9 5 4 9 3 2 5 7 2 9 1 0\n",
      "60 beads: 1 2 3 5 8 3 1 4 5 9 4 3 7 0 7 7 4 1 5 6 1 7 8 5 3 8 1 9 0 9 9 8 7 5 2 7 9 6 5 1 6 7 3 0 3 3 6 9 5 4 9 3 2 5 7 2 9 1 0 1\n",
      "12 beads: 1 3 4 7 1 8 9 7 6 3 9 2\n",
      "60 beads: 1 4 5 9 4 3 7 0 7 7 4 1 5 6 1 7 8 5 3 8 1 9 0 9 9 8 7 5 2 7 9 6 5 1 6 7 3 0 3 3 6 9 5 4 9 3 2 5 7 2 9 1 0 1 1 2 3 5 8 3\n",
      "60 beads: 1 5 6 1 7 8 5 3 8 1 9 0 9 9 8 7 5 2 7 9 6 5 1 6 7 3 0 3 3 6 9 5 4 9 3 2 5 7 2 9 1 0 1 1 2 3 5 8 3 1 4 5 9 4 3 7 0 7 7 4\n",
      "60 beads: 1 6 7 3 0 3 3 6 9 5 4 9 3 2 5 7 2 9 1 0 1 1 2 3 5 8 3 1 4 5 9 4 3 7 0 7 7 4 1 5 6 1 7 8 5 3 8 1 9 0 9 9 8 7 5 2 7 9 6 5\n",
      "60 beads: 1 7 8 5 3 8 1 9 0 9 9 8 7 5 2 7 9 6 5 1 6 7 3 0 3 3 6 9 5 4 9 3 2 5 7 2 9 1 0 1 1 2 3 5 8 3 1 4 5 9 4 3 7 0 7 7 4 1 5 6\n",
      "12 beads: 1 8 9 7 6 3 9 2 1 3 4 7\n",
      "60 beads: 1 9 0 9 9 8 7 5 2 7 9 6 5 1 6 7 3 0 3 3 6 9 5 4 9 3 2 5 7 2 9 1 0 1 1 2 3 5 8 3 1 4 5 9 4 3 7 0 7 7 4 1 5 6 1 7 8 5 3 8\n",
      "20 beads: 2 0 2 2 4 6 0 6 6 2 8 0 8 8 6 4 0 4 4 8\n",
      "12 beads: 2 1 3 4 7 1 8 9 7 6 3 9\n",
      "20 beads: 2 2 4 6 0 6 6 2 8 0 8 8 6 4 0 4 4 8 2 0\n",
      "60 beads: 2 3 5 8 3 1 4 5 9 4 3 7 0 7 7 4 1 5 6 1 7 8 5 3 8 1 9 0 9 9 8 7 5 2 7 9 6 5 1 6 7 3 0 3 3 6 9 5 4 9 3 2 5 7 2 9 1 0 1 1\n",
      "20 beads: 2 4 6 0 6 6 2 8 0 8 8 6 4 0 4 4 8 2 0 2\n",
      "60 beads: 2 5 7 2 9 1 0 1 1 2 3 5 8 3 1 4 5 9 4 3 7 0 7 7 4 1 5 6 1 7 8 5 3 8 1 9 0 9 9 8 7 5 2 7 9 6 5 1 6 7 3 0 3 3 6 9 5 4 9 3\n",
      " 4 beads: 2 6 8 4\n",
      "60 beads: 2 7 9 6 5 1 6 7 3 0 3 3 6 9 5 4 9 3 2 5 7 2 9 1 0 1 1 2 3 5 8 3 1 4 5 9 4 3 7 0 7 7 4 1 5 6 1 7 8 5 3 8 1 9 0 9 9 8 7 5\n",
      "20 beads: 2 8 0 8 8 6 4 0 4 4 8 2 0 2 2 4 6 0 6 6\n",
      "60 beads: 2 9 1 0 1 1 2 3 5 8 3 1 4 5 9 4 3 7 0 7 7 4 1 5 6 1 7 8 5 3 8 1 9 0 9 9 8 7 5 2 7 9 6 5 1 6 7 3 0 3 3 6 9 5 4 9 3 2 5 7\n",
      "60 beads: 3 0 3 3 6 9 5 4 9 3 2 5 7 2 9 1 0 1 1 2 3 5 8 3 1 4 5 9 4 3 7 0 7 7 4 1 5 6 1 7 8 5 3 8 1 9 0 9 9 8 7 5 2 7 9 6 5 1 6 7\n",
      "60 beads: 3 1 4 5 9 4 3 7 0 7 7 4 1 5 6 1 7 8 5 3 8 1 9 0 9 9 8 7 5 2 7 9 6 5 1 6 7 3 0 3 3 6 9 5 4 9 3 2 5 7 2 9 1 0 1 1 2 3 5 8\n",
      "60 beads: 3 2 5 7 2 9 1 0 1 1 2 3 5 8 3 1 4 5 9 4 3 7 0 7 7 4 1 5 6 1 7 8 5 3 8 1 9 0 9 9 8 7 5 2 7 9 6 5 1 6 7 3 0 3 3 6 9 5 4 9\n",
      "60 beads: 3 3 6 9 5 4 9 3 2 5 7 2 9 1 0 1 1 2 3 5 8 3 1 4 5 9 4 3 7 0 7 7 4 1 5 6 1 7 8 5 3 8 1 9 0 9 9 8 7 5 2 7 9 6 5 1 6 7 3 0\n",
      "12 beads: 3 4 7 1 8 9 7 6 3 9 2 1\n",
      "60 beads: 3 5 8 3 1 4 5 9 4 3 7 0 7 7 4 1 5 6 1 7 8 5 3 8 1 9 0 9 9 8 7 5 2 7 9 6 5 1 6 7 3 0 3 3 6 9 5 4 9 3 2 5 7 2 9 1 0 1 1 2\n",
      "60 beads: 3 6 9 5 4 9 3 2 5 7 2 9 1 0 1 1 2 3 5 8 3 1 4 5 9 4 3 7 0 7 7 4 1 5 6 1 7 8 5 3 8 1 9 0 9 9 8 7 5 2 7 9 6 5 1 6 7 3 0 3\n",
      "60 beads: 3 7 0 7 7 4 1 5 6 1 7 8 5 3 8 1 9 0 9 9 8 7 5 2 7 9 6 5 1 6 7 3 0 3 3 6 9 5 4 9 3 2 5 7 2 9 1 0 1 1 2 3 5 8 3 1 4 5 9 4\n",
      "60 beads: 3 8 1 9 0 9 9 8 7 5 2 7 9 6 5 1 6 7 3 0 3 3 6 9 5 4 9 3 2 5 7 2 9 1 0 1 1 2 3 5 8 3 1 4 5 9 4 3 7 0 7 7 4 1 5 6 1 7 8 5\n",
      "12 beads: 3 9 2 1 3 4 7 1 8 9 7 6\n",
      "20 beads: 4 0 4 4 8 2 0 2 2 4 6 0 6 6 2 8 0 8 8 6\n",
      "60 beads: 4 1 5 6 1 7 8 5 3 8 1 9 0 9 9 8 7 5 2 7 9 6 5 1 6 7 3 0 3 3 6 9 5 4 9 3 2 5 7 2 9 1 0 1 1 2 3 5 8 3 1 4 5 9 4 3 7 0 7 7\n",
      " 4 beads: 4 2 6 8\n",
      "60 beads: 4 3 7 0 7 7 4 1 5 6 1 7 8 5 3 8 1 9 0 9 9 8 7 5 2 7 9 6 5 1 6 7 3 0 3 3 6 9 5 4 9 3 2 5 7 2 9 1 0 1 1 2 3 5 8 3 1 4 5 9\n",
      "20 beads: 4 4 8 2 0 2 2 4 6 0 6 6 2 8 0 8 8 6 4 0\n",
      "60 beads: 4 5 9 4 3 7 0 7 7 4 1 5 6 1 7 8 5 3 8 1 9 0 9 9 8 7 5 2 7 9 6 5 1 6 7 3 0 3 3 6 9 5 4 9 3 2 5 7 2 9 1 0 1 1 2 3 5 8 3 1\n",
      "20 beads: 4 6 0 6 6 2 8 0 8 8 6 4 0 4 4 8 2 0 2 2\n",
      "12 beads: 4 7 1 8 9 7 6 3 9 2 1 3\n",
      "20 beads: 4 8 2 0 2 2 4 6 0 6 6 2 8 0 8 8 6 4 0 4\n",
      "60 beads: 4 9 3 2 5 7 2 9 1 0 1 1 2 3 5 8 3 1 4 5 9 4 3 7 0 7 7 4 1 5 6 1 7 8 5 3 8 1 9 0 9 9 8 7 5 2 7 9 6 5 1 6 7 3 0 3 3 6 9 5\n",
      " 3 beads: 5 0 5\n",
      "60 beads: 5 1 6 7 3 0 3 3 6 9 5 4 9 3 2 5 7 2 9 1 0 1 1 2 3 5 8 3 1 4 5 9 4 3 7 0 7 7 4 1 5 6 1 7 8 5 3 8 1 9 0 9 9 8 7 5 2 7 9 6\n",
      "60 beads: 5 2 7 9 6 5 1 6 7 3 0 3 3 6 9 5 4 9 3 2 5 7 2 9 1 0 1 1 2 3 5 8 3 1 4 5 9 4 3 7 0 7 7 4 1 5 6 1 7 8 5 3 8 1 9 0 9 9 8 7\n",
      "60 beads: 5 3 8 1 9 0 9 9 8 7 5 2 7 9 6 5 1 6 7 3 0 3 3 6 9 5 4 9 3 2 5 7 2 9 1 0 1 1 2 3 5 8 3 1 4 5 9 4 3 7 0 7 7 4 1 5 6 1 7 8\n",
      "60 beads: 5 4 9 3 2 5 7 2 9 1 0 1 1 2 3 5 8 3 1 4 5 9 4 3 7 0 7 7 4 1 5 6 1 7 8 5 3 8 1 9 0 9 9 8 7 5 2 7 9 6 5 1 6 7 3 0 3 3 6 9\n",
      " 3 beads: 5 5 0\n",
      "60 beads: 5 6 1 7 8 5 3 8 1 9 0 9 9 8 7 5 2 7 9 6 5 1 6 7 3 0 3 3 6 9 5 4 9 3 2 5 7 2 9 1 0 1 1 2 3 5 8 3 1 4 5 9 4 3 7 0 7 7 4 1\n",
      "60 beads: 5 7 2 9 1 0 1 1 2 3 5 8 3 1 4 5 9 4 3 7 0 7 7 4 1 5 6 1 7 8 5 3 8 1 9 0 9 9 8 7 5 2 7 9 6 5 1 6 7 3 0 3 3 6 9 5 4 9 3 2\n",
      "60 beads: 5 8 3 1 4 5 9 4 3 7 0 7 7 4 1 5 6 1 7 8 5 3 8 1 9 0 9 9 8 7 5 2 7 9 6 5 1 6 7 3 0 3 3 6 9 5 4 9 3 2 5 7 2 9 1 0 1 1 2 3\n",
      "60 beads: 5 9 4 3 7 0 7 7 4 1 5 6 1 7 8 5 3 8 1 9 0 9 9 8 7 5 2 7 9 6 5 1 6 7 3 0 3 3 6 9 5 4 9 3 2 5 7 2 9 1 0 1 1 2 3 5 8 3 1 4\n",
      "20 beads: 6 0 6 6 2 8 0 8 8 6 4 0 4 4 8 2 0 2 2 4\n",
      "60 beads: 6 1 7 8 5 3 8 1 9 0 9 9 8 7 5 2 7 9 6 5 1 6 7 3 0 3 3 6 9 5 4 9 3 2 5 7 2 9 1 0 1 1 2 3 5 8 3 1 4 5 9 4 3 7 0 7 7 4 1 5\n",
      "20 beads: 6 2 8 0 8 8 6 4 0 4 4 8 2 0 2 2 4 6 0 6\n",
      "12 beads: 6 3 9 2 1 3 4 7 1 8 9 7\n",
      "20 beads: 6 4 0 4 4 8 2 0 2 2 4 6 0 6 6 2 8 0 8 8\n",
      "60 beads: 6 5 1 6 7 3 0 3 3 6 9 5 4 9 3 2 5 7 2 9 1 0 1 1 2 3 5 8 3 1 4 5 9 4 3 7 0 7 7 4 1 5 6 1 7 8 5 3 8 1 9 0 9 9 8 7 5 2 7 9\n",
      "20 beads: 6 6 2 8 0 8 8 6 4 0 4 4 8 2 0 2 2 4 6 0\n",
      "60 beads: 6 7 3 0 3 3 6 9 5 4 9 3 2 5 7 2 9 1 0 1 1 2 3 5 8 3 1 4 5 9 4 3 7 0 7 7 4 1 5 6 1 7 8 5 3 8 1 9 0 9 9 8 7 5 2 7 9 6 5 1\n",
      " 4 beads: 6 8 4 2\n",
      "60 beads: 6 9 5 4 9 3 2 5 7 2 9 1 0 1 1 2 3 5 8 3 1 4 5 9 4 3 7 0 7 7 4 1 5 6 1 7 8 5 3 8 1 9 0 9 9 8 7 5 2 7 9 6 5 1 6 7 3 0 3 3\n",
      "60 beads: 7 0 7 7 4 1 5 6 1 7 8 5 3 8 1 9 0 9 9 8 7 5 2 7 9 6 5 1 6 7 3 0 3 3 6 9 5 4 9 3 2 5 7 2 9 1 0 1 1 2 3 5 8 3 1 4 5 9 4 3\n",
      "12 beads: 7 1 8 9 7 6 3 9 2 1 3 4\n",
      "60 beads: 7 2 9 1 0 1 1 2 3 5 8 3 1 4 5 9 4 3 7 0 7 7 4 1 5 6 1 7 8 5 3 8 1 9 0 9 9 8 7 5 2 7 9 6 5 1 6 7 3 0 3 3 6 9 5 4 9 3 2 5\n",
      "60 beads: 7 3 0 3 3 6 9 5 4 9 3 2 5 7 2 9 1 0 1 1 2 3 5 8 3 1 4 5 9 4 3 7 0 7 7 4 1 5 6 1 7 8 5 3 8 1 9 0 9 9 8 7 5 2 7 9 6 5 1 6\n",
      "60 beads: 7 4 1 5 6 1 7 8 5 3 8 1 9 0 9 9 8 7 5 2 7 9 6 5 1 6 7 3 0 3 3 6 9 5 4 9 3 2 5 7 2 9 1 0 1 1 2 3 5 8 3 1 4 5 9 4 3 7 0 7\n",
      "60 beads: 7 5 2 7 9 6 5 1 6 7 3 0 3 3 6 9 5 4 9 3 2 5 7 2 9 1 0 1 1 2 3 5 8 3 1 4 5 9 4 3 7 0 7 7 4 1 5 6 1 7 8 5 3 8 1 9 0 9 9 8\n",
      "12 beads: 7 6 3 9 2 1 3 4 7 1 8 9\n",
      "60 beads: 7 7 4 1 5 6 1 7 8 5 3 8 1 9 0 9 9 8 7 5 2 7 9 6 5 1 6 7 3 0 3 3 6 9 5 4 9 3 2 5 7 2 9 1 0 1 1 2 3 5 8 3 1 4 5 9 4 3 7 0\n",
      "60 beads: 7 8 5 3 8 1 9 0 9 9 8 7 5 2 7 9 6 5 1 6 7 3 0 3 3 6 9 5 4 9 3 2 5 7 2 9 1 0 1 1 2 3 5 8 3 1 4 5 9 4 3 7 0 7 7 4 1 5 6 1\n",
      "60 beads: 7 9 6 5 1 6 7 3 0 3 3 6 9 5 4 9 3 2 5 7 2 9 1 0 1 1 2 3 5 8 3 1 4 5 9 4 3 7 0 7 7 4 1 5 6 1 7 8 5 3 8 1 9 0 9 9 8 7 5 2\n",
      "20 beads: 8 0 8 8 6 4 0 4 4 8 2 0 2 2 4 6 0 6 6 2\n",
      "60 beads: 8 1 9 0 9 9 8 7 5 2 7 9 6 5 1 6 7 3 0 3 3 6 9 5 4 9 3 2 5 7 2 9 1 0 1 1 2 3 5 8 3 1 4 5 9 4 3 7 0 7 7 4 1 5 6 1 7 8 5 3\n",
      "20 beads: 8 2 0 2 2 4 6 0 6 6 2 8 0 8 8 6 4 0 4 4\n",
      "60 beads: 8 3 1 4 5 9 4 3 7 0 7 7 4 1 5 6 1 7 8 5 3 8 1 9 0 9 9 8 7 5 2 7 9 6 5 1 6 7 3 0 3 3 6 9 5 4 9 3 2 5 7 2 9 1 0 1 1 2 3 5\n",
      " 4 beads: 8 4 2 6\n",
      "60 beads: 8 5 3 8 1 9 0 9 9 8 7 5 2 7 9 6 5 1 6 7 3 0 3 3 6 9 5 4 9 3 2 5 7 2 9 1 0 1 1 2 3 5 8 3 1 4 5 9 4 3 7 0 7 7 4 1 5 6 1 7\n",
      "20 beads: 8 6 4 0 4 4 8 2 0 2 2 4 6 0 6 6 2 8 0 8\n",
      "60 beads: 8 7 5 2 7 9 6 5 1 6 7 3 0 3 3 6 9 5 4 9 3 2 5 7 2 9 1 0 1 1 2 3 5 8 3 1 4 5 9 4 3 7 0 7 7 4 1 5 6 1 7 8 5 3 8 1 9 0 9 9\n",
      "20 beads: 8 8 6 4 0 4 4 8 2 0 2 2 4 6 0 6 6 2 8 0\n",
      "12 beads: 8 9 7 6 3 9 2 1 3 4 7 1\n",
      "60 beads: 9 0 9 9 8 7 5 2 7 9 6 5 1 6 7 3 0 3 3 6 9 5 4 9 3 2 5 7 2 9 1 0 1 1 2 3 5 8 3 1 4 5 9 4 3 7 0 7 7 4 1 5 6 1 7 8 5 3 8 1\n",
      "60 beads: 9 1 0 1 1 2 3 5 8 3 1 4 5 9 4 3 7 0 7 7 4 1 5 6 1 7 8 5 3 8 1 9 0 9 9 8 7 5 2 7 9 6 5 1 6 7 3 0 3 3 6 9 5 4 9 3 2 5 7 2\n",
      "12 beads: 9 2 1 3 4 7 1 8 9 7 6 3\n",
      "60 beads: 9 3 2 5 7 2 9 1 0 1 1 2 3 5 8 3 1 4 5 9 4 3 7 0 7 7 4 1 5 6 1 7 8 5 3 8 1 9 0 9 9 8 7 5 2 7 9 6 5 1 6 7 3 0 3 3 6 9 5 4\n",
      "60 beads: 9 4 3 7 0 7 7 4 1 5 6 1 7 8 5 3 8 1 9 0 9 9 8 7 5 2 7 9 6 5 1 6 7 3 0 3 3 6 9 5 4 9 3 2 5 7 2 9 1 0 1 1 2 3 5 8 3 1 4 5\n",
      "60 beads: 9 5 4 9 3 2 5 7 2 9 1 0 1 1 2 3 5 8 3 1 4 5 9 4 3 7 0 7 7 4 1 5 6 1 7 8 5 3 8 1 9 0 9 9 8 7 5 2 7 9 6 5 1 6 7 3 0 3 3 6\n",
      "60 beads: 9 6 5 1 6 7 3 0 3 3 6 9 5 4 9 3 2 5 7 2 9 1 0 1 1 2 3 5 8 3 1 4 5 9 4 3 7 0 7 7 4 1 5 6 1 7 8 5 3 8 1 9 0 9 9 8 7 5 2 7\n",
      "12 beads: 9 7 6 3 9 2 1 3 4 7 1 8\n",
      "60 beads: 9 8 7 5 2 7 9 6 5 1 6 7 3 0 3 3 6 9 5 4 9 3 2 5 7 2 9 1 0 1 1 2 3 5 8 3 1 4 5 9 4 3 7 0 7 7 4 1 5 6 1 7 8 5 3 8 1 9 0 9\n",
      "60 beads: 9 9 8 7 5 2 7 9 6 5 1 6 7 3 0 3 3 6 9 5 4 9 3 2 5 7 2 9 1 0 1 1 2 3 5 8 3 1 4 5 9 4 3 7 0 7 7 4 1 5 6 1 7 8 5 3 8 1 9 0\n"
     ]
    }
   ],
   "source": [
    "digits = [0, 1, 2, 3, 4, 5, 6, 7, 8, 9]\n",
    "\n",
    "def show(bracelets):\n",
    "    \"\"\"Print each of the bracelets, preceeded by its number of beads.\"\"\"\n",
    "    for beads in bracelets:\n",
    "        print(f'{len(beads):2} beads:', *beads)\n",
    "\n",
    "all_bracelets = [bracelet((first, second)) for first in digits for second in digits]\n",
    "\n",
    "show(all_bracelets)"
   ]
  },
  {
   "cell_type": "markdown",
   "id": "21dc3fe1-dc06-4b57-a7b8-e21502086ac9",
   "metadata": {},
   "source": [
    "# How Many Bracelets?\n",
    "\n",
    "I showed 100 bracelets, because there are 100 two-digit starting pairs. But consider thesde three results:\n",
    "- 0 5 5\n",
    "- 5 0 5\n",
    "- 5 5 0\n",
    "\n",
    "These are all different as *sequences*, but they are all the same as *circular bracelets*: two 5s and a 0. So let's see how many different bracelets there are. I'll do that by converting all three of these into one common form. I'll arbitrarily choose the form that would be the lowest number: 055 is lower than 505 or 550. Then I'll make a set of all the distinct common forms and show them:"
   ]
  },
  {
   "cell_type": "code",
   "execution_count": 6,
   "id": "9c6ed448-87a2-42f4-ab7b-75758e734cd2",
   "metadata": {},
   "outputs": [
    {
     "name": "stdout",
     "output_type": "stream",
     "text": [
      " 2 beads: 0 0\n",
      " 4 beads: 2 6 8 4\n",
      " 3 beads: 0 5 5\n",
      "12 beads: 1 3 4 7 1 8 9 7 6 3 9 2\n",
      "60 beads: 0 1 1 2 3 5 8 3 1 4 5 9 4 3 7 0 7 7 4 1 5 6 1 7 8 5 3 8 1 9 0 9 9 8 7 5 2 7 9 6 5 1 6 7 3 0 3 3 6 9 5 4 9 3 2 5 7 2 9 1\n",
      "20 beads: 0 2 2 4 6 0 6 6 2 8 0 8 8 6 4 0 4 4 8 2\n"
     ]
    }
   ],
   "source": [
    "def common_form(bracelet):\n",
    "    \"\"\"Represent this bracelet by choosing the lowest numerical rotation out of all possible rotations.\"\"\"\n",
    "    return min(rotations(bracelet))\n",
    "\n",
    "def rotations(bracelet):\n",
    "    \"\"\"All possible rotations of bracelet.\"\"\"\n",
    "    return [bracelet[i:] + bracelet[:i] for i in range(len(bracelet))]\n",
    "\n",
    "show({common_form(beads) for beads in all_bracelets})"
   ]
  },
  {
   "cell_type": "markdown",
   "id": "5276c097-6a6b-4b6a-b146-ef2fae4a8ecd",
   "metadata": {},
   "source": [
    "We see there are only six distinct bracelets."
   ]
  }
 ],
 "metadata": {
  "kernelspec": {
   "display_name": "Python 3 (ipykernel)",
   "language": "python",
   "name": "python3"
  },
  "language_info": {
   "codemirror_mode": {
    "name": "ipython",
    "version": 3
   },
   "file_extension": ".py",
   "mimetype": "text/x-python",
   "name": "python",
   "nbconvert_exporter": "python",
   "pygments_lexer": "ipython3",
   "version": "3.8.15"
  }
 },
 "nbformat": 4,
 "nbformat_minor": 5
}
